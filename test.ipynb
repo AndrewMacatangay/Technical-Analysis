{
 "cells": [
  {
   "cell_type": "code",
   "execution_count": null,
   "metadata": {},
   "outputs": [],
   "source": [
    "import pandas as pd\n",
    "from pandas_datareader import data as web\n",
    "import plotly.graph_objects as go\n",
    "from plotly.subplots import make_subplots\n",
    "import plotly.io as pio\n",
    "\n",
    "ticker = \"BTC-USD\"\n",
    " \n",
    "df = web.DataReader(name = ticker, data_source = \"yahoo\", start = \"01-01-2019\")\n",
    "\n",
    "fig = make_subplots(shared_xaxes = True,\n",
    "                    vertical_spacing = 0.03,\n",
    "                    subplot_titles = ((ticker + ' Moving Averages', \"Volume\")),\n",
    "                    specs = [[{\"secondary_y\": True}]])\n",
    "\n",
    "fig.add_trace(go.Candlestick(x = df.index,\n",
    "                             open = df.Open,\n",
    "                             close = df.Close,\n",
    "                             low = df.Low,\n",
    "                             high = df.High,\n",
    "                             name = ticker,\n",
    "                             showlegend = True),\n",
    "              secondary_y = True)\n",
    "\n",
    "fig.add_trace(go.Scatter(x = df.index,\n",
    "                         y = df.Close.rolling(window = 200, min_periods = 1).mean(),\n",
    "                         mode = \"lines\",\n",
    "                         line = {\"width\": 1, \"color\": \"blue\"},\n",
    "                         name = '200 SMA'),\n",
    "              secondary_y = True)\n",
    "\n",
    "fig.add_trace(go.Scatter(x = df.index,\n",
    "                         y = df.Close.rolling(window = 50, min_periods = 1).mean(),\n",
    "                         mode = \"lines\",\n",
    "                         line = {\"width\": 1, \"color\": \"red\"},\n",
    "                         name = '50 SMA'),\n",
    "              secondary_y = True)\n",
    "\n",
    "fig.add_trace(go.Bar(x = df.index,\n",
    "                     y = df.Volume,\n",
    "                     name = \"Daily Volume\"),\n",
    "              secondary_y = False)\n",
    "\n",
    "fig.update_layout(yaxis1 = {\"side\": \"right\", \"showgrid\": False},\n",
    "                  yaxis2 = {\"side\": \"left\"});\n",
    "fig.show(\"png\")"
   ]
  },
  {
   "cell_type": "code",
   "execution_count": 102,
   "metadata": {},
   "outputs": [
    {
     "data": {
      "text/plain": [
       "Renderers configuration\n",
       "-----------------------\n",
       "    Default renderer: 'png'\n",
       "    Available renderers:\n",
       "        ['plotly_mimetype', 'jupyterlab', 'nteract', 'vscode',\n",
       "         'notebook', 'notebook_connected', 'kaggle', 'azure', 'colab',\n",
       "         'cocalc', 'databricks', 'json', 'png', 'jpeg', 'jpg', 'svg',\n",
       "         'pdf', 'browser', 'firefox', 'chrome', 'chromium', 'iframe',\n",
       "         'iframe_connected', 'sphinx_gallery', 'sphinx_gallery_png']"
      ]
     },
     "execution_count": 102,
     "metadata": {},
     "output_type": "execute_result"
    }
   ],
   "source": [
    "pio.renderers"
   ]
  },
  {
   "cell_type": "code",
   "execution_count": null,
   "metadata": {},
   "outputs": [],
   "source": []
  }
 ],
 "metadata": {
  "kernelspec": {
   "display_name": "Python 3",
   "language": "python",
   "name": "python3"
  },
  "language_info": {
   "codemirror_mode": {
    "name": "ipython",
    "version": 3
   },
   "file_extension": ".py",
   "mimetype": "text/x-python",
   "name": "python",
   "nbconvert_exporter": "python",
   "pygments_lexer": "ipython3",
   "version": "3.8.5"
  }
 },
 "nbformat": 4,
 "nbformat_minor": 4
}
